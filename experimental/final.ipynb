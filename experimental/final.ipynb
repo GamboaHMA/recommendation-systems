{
 "cells": [
  {
   "cell_type": "markdown",
   "metadata": {},
   "source": [
    "# Filtrado Colaborativo Usuario-Usuario (K-Nearest Neighbours Clustering)\n",
    "- Para predecir la valoración de un usuario **u** sobre un elemento **i** (no valorado por el usuario u), usaremos la media ponderada (ajustada por la media de las valoraciones de cada usuario)\n",
    "$$ p_{u,i} = \\bar{r_u} + \\frac{\\sum_{v\\in{N_i^{k}(u)}} sim(u,v) \\cdot  (r_{vi} - \\bar{r_v})}{\\sum_{v\\in{N_i^{k}(u)}} sim(u,v)}$$\n",
    "- La salida es la predicción de la valoración del usuario u sobre el elemento i\n",
    "- Usaremos la **medida de similitud entre el usuario u y el usuario v**, donde cada usuario v está en el mismo grupo (cluster) que el usuario u, calculado por el algoritmo\n",
    "    - Como medida de similitud utilizaremos **Pearson baseline** "
   ]
  },
  {
   "cell_type": "code",
   "execution_count": null,
   "metadata": {},
   "outputs": [],
   "source": []
  }
 ],
 "metadata": {
  "language_info": {
   "name": "python"
  }
 },
 "nbformat": 4,
 "nbformat_minor": 2
}
