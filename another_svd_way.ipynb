{
 "cells": [
  {
   "cell_type": "code",
   "execution_count": 1,
   "metadata": {},
   "outputs": [],
   "source": [
    "import sys\n",
    "import surprise\n",
    "import pandas as pd\n",
    "import numpy as np"
   ]
  },
  {
   "cell_type": "code",
   "execution_count": 2,
   "metadata": {},
   "outputs": [],
   "source": [
    "# Parameter\n",
    "\n",
    "# top k items to recommend \n",
    "TOP_K = 10\n",
    "\n",
    "# Movielens data path\n",
    "RATING_PATH = 'dataset-movielens/u.data'\n",
    "ITEMS_PATH  = 'dataset-movielens/u.item'\n",
    "USERS_PATH  = 'dataset-movielens/u.user'"
   ]
  },
  {
   "cell_type": "code",
   "execution_count": 3,
   "metadata": {},
   "outputs": [
    {
     "data": {
      "text/html": [
       "<div>\n",
       "<style scoped>\n",
       "    .dataframe tbody tr th:only-of-type {\n",
       "        vertical-align: middle;\n",
       "    }\n",
       "\n",
       "    .dataframe tbody tr th {\n",
       "        vertical-align: top;\n",
       "    }\n",
       "\n",
       "    .dataframe thead th {\n",
       "        text-align: right;\n",
       "    }\n",
       "</style>\n",
       "<table border=\"1\" class=\"dataframe\">\n",
       "  <thead>\n",
       "    <tr style=\"text-align: right;\">\n",
       "      <th></th>\n",
       "      <th>userID</th>\n",
       "      <th>itemID</th>\n",
       "      <th>rating</th>\n",
       "    </tr>\n",
       "  </thead>\n",
       "  <tbody>\n",
       "    <tr>\n",
       "      <th>0</th>\n",
       "      <td>2</td>\n",
       "      <td>292</td>\n",
       "      <td>4</td>\n",
       "    </tr>\n",
       "    <tr>\n",
       "      <th>1</th>\n",
       "      <td>2</td>\n",
       "      <td>251</td>\n",
       "      <td>5</td>\n",
       "    </tr>\n",
       "    <tr>\n",
       "      <th>2</th>\n",
       "      <td>2</td>\n",
       "      <td>50</td>\n",
       "      <td>5</td>\n",
       "    </tr>\n",
       "    <tr>\n",
       "      <th>3</th>\n",
       "      <td>2</td>\n",
       "      <td>314</td>\n",
       "      <td>1</td>\n",
       "    </tr>\n",
       "    <tr>\n",
       "      <th>4</th>\n",
       "      <td>2</td>\n",
       "      <td>297</td>\n",
       "      <td>4</td>\n",
       "    </tr>\n",
       "  </tbody>\n",
       "</table>\n",
       "</div>"
      ],
      "text/plain": [
       "   userID  itemID  rating\n",
       "0       2     292       4\n",
       "1       2     251       5\n",
       "2       2      50       5\n",
       "3       2     314       1\n",
       "4       2     297       4"
      ]
     },
     "execution_count": 3,
     "metadata": {},
     "output_type": "execute_result"
    }
   ],
   "source": [
    "# Load data\n",
    "\n",
    "user_columns = [ 'userID', 'age', 'gender', 'occupation', 'zipCode' ]\n",
    "rating_columns = [ 'userID', 'itemID', 'rating', 'timestamp' ]\n",
    "\n",
    "user = pd.read_csv(USERS_PATH, sep='|', encoding='latin-1')\n",
    "user.columns = user_columns\n",
    "\n",
    "rating = pd.read_csv(RATING_PATH, sep='\\t', encoding='latin-1')\n",
    "rating.columns = rating_columns\n",
    "\n",
    "dataframe = pd.merge( user, rating, on='userID', how='inner' )\n",
    "dataframe.drop(['age', 'gender', 'zipCode', 'timestamp'], axis=1, inplace=True)\n",
    "\n",
    "dataframe.drop ( 'occupation', axis=1, inplace=True )\n",
    "dataframe.head ()"
   ]
  },
  {
   "cell_type": "code",
   "execution_count": 4,
   "metadata": {},
   "outputs": [
    {
     "name": "stdout",
     "output_type": "stream",
     "text": [
      "\n",
      "DATAFRAME: 99727\n",
      "VALUE:     74795\n",
      "\n",
      "       userID  itemID  rating\n",
      "0           2     292       4\n",
      "1           2     251       5\n",
      "2           2      50       5\n",
      "3           2     314       1\n",
      "4           2     297       4\n",
      "...       ...     ...     ...\n",
      "99722     943     415       1\n",
      "99723     943     219       4\n",
      "99724     943     796       3\n",
      "99725     943     739       4\n",
      "99726     943     391       2\n",
      "\n",
      "[99727 rows x 3 columns]\n",
      "       userID  itemID  rating\n",
      "27939     279    1032       3\n",
      "7010       68     118       2\n",
      "46467     416     843       3\n",
      "24486     251     535       3\n",
      "42605     391      98       4\n",
      "...       ...     ...     ...\n",
      "33542     313     489       4\n",
      "16344     174     286       5\n",
      "63165     563     862       1\n",
      "12662     125     163       5\n",
      "95184     896     302       2\n",
      "\n",
      "[99727 rows x 3 columns]\n"
     ]
    }
   ],
   "source": [
    "percentage = 0.75\n",
    "\n",
    "value = int ( len( dataframe ) * percentage )\n",
    "print( f\"\"\"\n",
    "DATAFRAME: { len( dataframe ) }\n",
    "VALUE:     { value }\n",
    "\"\"\" )\n",
    "\n",
    "index = np.random.permutation ( range ( len(dataframe) ) ) \n",
    "dataframe_randomized = dataframe.iloc[ index ]\n",
    "\n",
    "\n",
    "print ( dataframe )\n",
    "\n",
    "print ( dataframe_randomized )\n",
    "\n",
    "trainset = dataframe_randomized.iloc [ :value ]\n",
    "testset  = dataframe_randomized.iloc [ value: ]"
   ]
  },
  {
   "cell_type": "code",
   "execution_count": 21,
   "metadata": {},
   "outputs": [
    {
     "name": "stdout",
     "output_type": "stream",
     "text": [
      "       userID  itemID  rating\n",
      "84756     796      12       5\n",
      "54605     487     255       2\n",
      "97016     916     931       1\n",
      "75778     697     682       2\n",
      "26304     269     293       3\n",
      "...       ...     ...     ...\n",
      "62362     554       7       3\n",
      "11875     115     471       2\n",
      "53364     474      73       3\n",
      "40532     378    1478       3\n",
      "47845     429     591       3\n",
      "\n",
      "[74795 rows x 3 columns]\n",
      "       userID  itemID  rating\n",
      "21181     220     325       1\n",
      "73108     663    1327       4\n",
      "77954     717     268       5\n",
      "71037     650      29       2\n",
      "30875     298     174       5\n",
      "...       ...     ...     ...\n",
      "2217       15     927       4\n",
      "22951     234      52       4\n",
      "13030     128     202       2\n",
      "4574       44     118       3\n",
      "60009     536     474       5\n",
      "\n",
      "[24932 rows x 3 columns]\n"
     ]
    }
   ],
   "source": [
    "\n",
    "print ( trainset )\n",
    "\n",
    "print ( testset )"
   ]
  },
  {
   "cell_type": "code",
   "execution_count": 23,
   "metadata": {},
   "outputs": [
    {
     "data": {
      "text/plain": [
       "<surprise.trainset.Trainset at 0x1d42bb908c0>"
      ]
     },
     "execution_count": 23,
     "metadata": {},
     "output_type": "execute_result"
    }
   ],
   "source": [
    "movieset = surprise.Dataset.load_from_df ( \n",
    "  trainset, reader=surprise.Reader ( 'ml-100k' )\n",
    ").build_full_trainset()\n",
    "movieset"
   ]
  },
  {
   "cell_type": "code",
   "execution_count": 24,
   "metadata": {},
   "outputs": [
    {
     "name": "stdout",
     "output_type": "stream",
     "text": [
      "Processing epoch 0\n",
      "Processing epoch 1\n",
      "Processing epoch 2\n",
      "Processing epoch 3\n",
      "Processing epoch 4\n",
      "Processing epoch 5\n",
      "Processing epoch 6\n",
      "Processing epoch 7\n",
      "Processing epoch 8\n",
      "Processing epoch 9\n",
      "Processing epoch 10\n",
      "Processing epoch 11\n",
      "Processing epoch 12\n",
      "Processing epoch 13\n",
      "Processing epoch 14\n",
      "Processing epoch 15\n",
      "Processing epoch 16\n",
      "Processing epoch 17\n",
      "Processing epoch 18\n",
      "Processing epoch 19\n",
      "Processing epoch 20\n",
      "Processing epoch 21\n",
      "Processing epoch 22\n",
      "Processing epoch 23\n",
      "Processing epoch 24\n",
      "Processing epoch 25\n",
      "Processing epoch 26\n",
      "Processing epoch 27\n",
      "Processing epoch 28\n",
      "Processing epoch 29\n"
     ]
    },
    {
     "data": {
      "text/plain": [
       "<surprise.prediction_algorithms.matrix_factorization.SVD at 0x1d42c58bdd0>"
      ]
     },
     "execution_count": 24,
     "metadata": {},
     "output_type": "execute_result"
    }
   ],
   "source": [
    "svd = surprise.SVD (\n",
    "  random_state = 0,\n",
    "  n_factors = 200,\n",
    "  n_epochs = 30,\n",
    "  verbose = True\n",
    ")\n",
    "svd.fit ( movieset )"
   ]
  },
  {
   "cell_type": "code",
   "execution_count": null,
   "metadata": {},
   "outputs": [],
   "source": [
    "# Prediction de testset con usercol=userID y itemcol=itemID\n",
    "def "
   ]
  }
 ],
 "metadata": {
  "kernelspec": {
   "display_name": "Python 3",
   "language": "python",
   "name": "python3"
  },
  "language_info": {
   "codemirror_mode": {
    "name": "ipython",
    "version": 3
   },
   "file_extension": ".py",
   "mimetype": "text/x-python",
   "name": "python",
   "nbconvert_exporter": "python",
   "pygments_lexer": "ipython3",
   "version": "3.12.2"
  }
 },
 "nbformat": 4,
 "nbformat_minor": 2
}
